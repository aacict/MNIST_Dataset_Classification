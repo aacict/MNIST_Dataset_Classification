{
 "cells": [
  {
   "cell_type": "markdown",
   "metadata": {},
   "source": [
    "#### Import Libraries:::"
   ]
  },
  {
   "cell_type": "code",
   "execution_count": 61,
   "metadata": {},
   "outputs": [],
   "source": [
    "import numpy as np\n",
    "import pandas as pd\n",
    "import matplotlib.pyplot as plt\n",
    "import seaborn as sns"
   ]
  },
  {
   "cell_type": "code",
   "execution_count": 62,
   "metadata": {},
   "outputs": [],
   "source": [
    "#Function to read the ubyte images file:\n",
    "def read_ubyte_images(file_path):\n",
    "    with open(file_path, 'rb') as f:\n",
    "        magic_number = int.from_bytes(f.read(4), 'big')  \n",
    "        num_images = int.from_bytes(f.read(4), 'big')   \n",
    "        rows = int.from_bytes(f.read(4), 'big')        \n",
    "        cols = int.from_bytes(f.read(4), 'big')        \n",
    "        \n",
    "        # Read image data (num_images * rows * cols)\n",
    "        image_data = np.frombuffer(f.read(), dtype=np.uint8)\n",
    "        images = image_data.reshape(num_images, rows, cols)\n",
    "    return images"
   ]
  },
  {
   "cell_type": "code",
   "execution_count": 63,
   "metadata": {},
   "outputs": [],
   "source": [
    "#Function to read the ubyte images label file:\n",
    "def read_ubyte_labels(file_path):\n",
    "    with open(file_path, 'rb') as f:\n",
    "        magic_number = int.from_bytes(f.read(4), 'big')  \n",
    "        num_labels = int.from_bytes(f.read(4), 'big')  \n",
    "        \n",
    "        # Read label data (num_labels)\n",
    "        label_data = np.frombuffer(f.read(), dtype=np.uint8)\n",
    "    \n",
    "    return label_data"
   ]
  },
  {
   "cell_type": "code",
   "execution_count": 64,
   "metadata": {},
   "outputs": [],
   "source": [
    "train_images = read_ubyte_images('./data/train-images.idx3-ubyte')\n",
    "train_labels = read_ubyte_labels('./data/train-labels.idx1-ubyte')\n",
    "test_images = read_ubyte_images('./data/t10k-images.idx3-ubyte')\n",
    "test_labels = read_ubyte_labels('./data/t10k-labels.idx1-ubyte')"
   ]
  },
  {
   "cell_type": "code",
   "execution_count": null,
   "metadata": {},
   "outputs": [
    {
     "name": "stdout",
     "output_type": "stream",
     "text": [
      "(60000, 28, 28)\n",
      "(10000, 28, 28)\n",
      "(60000,)\n"
     ]
    }
   ],
   "source": [
    "print(train_images.shape)\n",
    "print(test_images.shape)"
   ]
  },
  {
   "cell_type": "code",
   "execution_count": 66,
   "metadata": {},
   "outputs": [
    {
     "data": {
      "image/png": "[encoded data removed]",
      "text/plain": [
       "<Figure size 1500x500 with 5 Axes>"
      ]
     },
     "metadata": {},
     "output_type": "display_data"
    }
   ],
   "source": [
    "num_images = 5\n",
    "fig, axes = plt.subplots(1, num_images, figsize=(15, 5))\n",
    "\n",
    "# Plot each image in a row\n",
    "for i in range(num_images):\n",
    "    image = train_images[i]\n",
    "    \n",
    "    axes[i].imshow(image, cmap='gray')\n",
    "    axes[i].set_title(f'Image {i}')\n",
    "    axes[i].axis('off')\n",
    "\n",
    "plt.tight_layout()\n",
    "plt.show()\n"
   ]
  },
  {
   "cell_type": "code",
   "execution_count": 70,
   "metadata": {},
   "outputs": [
    {
     "name": "stdout",
     "output_type": "stream",
     "text": [
      "0    5\n",
      "1    0\n",
      "2    4\n",
      "3    1\n",
      "4    9\n",
      "dtype: uint8\n"
     ]
    }
   ],
   "source": [
    "df_labels = pd.Series(train_labels)\n",
    "print(df_labels.head())"
   ]
  }
 ],
 "metadata": {
  "kernelspec": {
   "display_name": "dataAnaPro",
   "language": "python",
   "name": "python3"
  },
  "language_info": {
   "codemirror_mode": {
    "name": "ipython",
    "version": 3
   },
   "file_extension": ".py",
   "mimetype": "text/x-python",
   "name": "python",
   "nbconvert_exporter": "python",
   "pygments_lexer": "ipython3",
   "version": "3.11.10"
  }
 },
 "nbformat": 4,
 "nbformat_minor": 2
}
